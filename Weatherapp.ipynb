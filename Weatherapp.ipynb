import requests
import pandas as pd
import matplotlib.pyplot as plt
import seaborn as sns
from datetime import datetime
import tkinter as tk
from tkinter import ttk
from matplotlib.backends.backend_tkagg import FigureCanvasTkAgg

# Fetch weather data function
def fetch_weather(city):
    API_KEY = "your Api key"  # Replace with your actual key
    URL = f"http://api.openweathermap.org/data/2.5/forecast?q={city}&appid={API_KEY}&units=metric"
    response = requests.get(URL)
    data = response.json()
    
    weather_data = {
        "datetime": [],
        "temperature": [],
        "humidity": [],
        "pressure": []
    }

    for entry in data['list']:
        weather_data["datetime"].append(datetime.fromtimestamp(entry["dt"]))
        weather_data["temperature"].append(entry["main"]["temp"])
        weather_data["humidity"].append(entry["main"]["humidity"])
        weather_data["pressure"].append(entry["main"]["pressure"])
    
    return pd.DataFrame(weather_data)

# Plotting function
def plot_weather(df, canvas_frame):
    sns.set(style="whitegrid")
    fig, axes = plt.subplots(3, 1, figsize=(10, 8), sharex=True)

    sns.lineplot(ax=axes[0], data=df, x="datetime", y="temperature", color="red")
    axes[0].set_title("Temperature (°C)")

    sns.lineplot(ax=axes[1], data=df, x="datetime", y="humidity", color="blue")
    axes[1].set_title("Humidity (%)")

    sns.lineplot(ax=axes[2], data=df, x="datetime", y="pressure", color="green")
    axes[2].set_title("Pressure (hPa)")
    axes[2].set_xlabel("DateTime")

    plt.tight_layout()

    canvas = FigureCanvasTkAgg(fig, master=canvas_frame)
    canvas.draw()
    canvas.get_tk_widget().pack(fill=tk.BOTH, expand=True)

# Main GUI application
def main():
    def update_dashboard():
        city = city_entry.get()
        try:
            df = fetch_weather(city)
            for widget in canvas_frame.winfo_children():
                widget.destroy()  # Clear previous canvas
            plot_weather(df, canvas_frame)
        except Exception as e:
            tk.messagebox.showerror("Error", str(e))

    root = tk.Tk()
    root.title("Weather Dashboard")

    # Top frame for city input
    top_frame = ttk.Frame(root, padding="10")
    top_frame.pack(side=tk.TOP, fill=tk.X)

    ttk.Label(top_frame, text="City:").pack(side=tk.LEFT)
    city_entry = ttk.Entry(top_frame, width=20)
    city_entry.insert(0, "London")
    city_entry.pack(side=tk.LEFT, padx=5)

    ttk.Button(top_frame, text="Get Weather", command=update_dashboard).pack(side=tk.LEFT, padx=5)

    # Frame for Matplotlib canvas
    canvas_frame = ttk.Frame(root)
    canvas_frame.pack(fill=tk.BOTH, expand=True)

    root.mainloop()

if __name__ == "__main__":
    main()
